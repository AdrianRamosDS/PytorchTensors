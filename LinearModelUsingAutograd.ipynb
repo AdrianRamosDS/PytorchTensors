{
 "cells": [
  {
   "cell_type": "code",
   "execution_count": 26,
   "id": "3cdb6147",
   "metadata": {},
   "outputs": [],
   "source": [
    "import numpy as np\n",
    "import matplotlib.pyplot as plt"
   ]
  },
  {
   "cell_type": "markdown",
   "id": "d6c77048",
   "metadata": {},
   "source": [
    "Features used to train the model:"
   ]
  },
  {
   "cell_type": "code",
   "execution_count": 27,
   "id": "4a7b4989",
   "metadata": {},
   "outputs": [],
   "source": [
    "x_train = np.array([[4.7],[2.4],[7.5],[7.1],[4.3],[7.816],[8.9],[5.2],[8.59],[2.1],[8],[10],[4.5],[6],[4]],dtype=np.float32)"
   ]
  },
  {
   "cell_type": "markdown",
   "id": "52aa651f",
   "metadata": {},
   "source": [
    "    Target values used to train model:"
   ]
  },
  {
   "cell_type": "code",
   "execution_count": 28,
   "id": "fb9f8917",
   "metadata": {},
   "outputs": [],
   "source": [
    "y_train = np.array([[2.6],[1.6],[3.09],[2.4],[2.4],[3.357],[2.6],[1.96],[3.53],[1.76],[3.2],[3.5],[1.6],[2.5],[2.2]],dtype=np.float32)"
   ]
  },
  {
   "cell_type": "code",
   "execution_count": 29,
   "id": "e35b5b72",
   "metadata": {},
   "outputs": [
    {
     "data": {
      "image/png": "[encoded data removed]",
      "text/plain": [
       "<Figure size 864x576 with 1 Axes>"
      ]
     },
     "metadata": {
      "needs_background": "light"
     },
     "output_type": "display_data"
    }
   ],
   "source": [
    "plt.figure(figsize=(12,8))\n",
    "plt.scatter(x_train,y_train, label='Original data', s=250, c='g')\n",
    "plt.legend()\n",
    "plt.show()"
   ]
  },
  {
   "cell_type": "code",
   "execution_count": 30,
   "id": "b26d0fa1",
   "metadata": {},
   "outputs": [],
   "source": [
    "import torch"
   ]
  },
  {
   "cell_type": "code",
   "execution_count": 31,
   "id": "694baf9c",
   "metadata": {},
   "outputs": [
    {
     "name": "stdout",
     "output_type": "stream",
     "text": [
      "requires_grad for X_train:  False\n",
      "requires_grad for Y_train:  False\n"
     ]
    }
   ],
   "source": [
    "X_train = torch.from_numpy(x_train)\n",
    "Y_train = torch.from_numpy(y_train)\n",
    "\n",
    "print('requires_grad for X_train: ', X_train.requires_grad)\n",
    "print('requires_grad for Y_train: ', Y_train.requires_grad)"
   ]
  },
  {
   "cell_type": "markdown",
   "id": "01150bc5",
   "metadata": {},
   "source": [
    "Defining size of input, hidden and output layers:"
   ]
  },
  {
   "cell_type": "code",
   "execution_count": 32,
   "id": "4d62e068",
   "metadata": {},
   "outputs": [],
   "source": [
    "input_size, hidden_size, output_size = 1,1,1"
   ]
  },
  {
   "cell_type": "code",
   "execution_count": 50,
   "id": "0ab8c6c8",
   "metadata": {},
   "outputs": [
    {
     "name": "stdout",
     "output_type": "stream",
     "text": [
      "w1,w3,w5: tensor([[0.2779]], requires_grad=True)\n"
     ]
    }
   ],
   "source": [
    "w1 = torch.rand(input_size, hidden_size, requires_grad=True)\n",
    "w3 = w1\n",
    "w5 = w1\n",
    "print('w1,w3,w5:',w1)"
   ]
  },
  {
   "cell_type": "code",
   "execution_count": 51,
   "id": "134fed42",
   "metadata": {
    "scrolled": true
   },
   "outputs": [
    {
     "data": {
      "text/plain": [
       "torch.Size([1, 1])"
      ]
     },
     "execution_count": 51,
     "metadata": {},
     "output_type": "execute_result"
    }
   ],
   "source": [
    "w1.shape"
   ]
  },
  {
   "cell_type": "markdown",
   "id": "ffd613f4",
   "metadata": {},
   "source": [
    "Weight between hidden layer and output layer connection:"
   ]
  },
  {
   "cell_type": "code",
   "execution_count": 52,
   "id": "62d6dd33",
   "metadata": {},
   "outputs": [
    {
     "name": "stdout",
     "output_type": "stream",
     "text": [
      "w1,w3,w6: tensor([[0.2779]], requires_grad=True)\n"
     ]
    }
   ],
   "source": [
    "w2 = torch.rand(input_size, hidden_size, requires_grad=True)\n",
    "w4 = w1\n",
    "w6 = w1\n",
    "print('w1,w3,w6:',w1)"
   ]
  },
  {
   "cell_type": "code",
   "execution_count": 53,
   "id": "3e9ac491",
   "metadata": {
    "scrolled": true
   },
   "outputs": [
    {
     "data": {
      "text/plain": [
       "torch.Size([1, 1])"
      ]
     },
     "execution_count": 53,
     "metadata": {},
     "output_type": "execute_result"
    }
   ],
   "source": [
    "w2.shape"
   ]
  },
  {
   "cell_type": "markdown",
   "id": "b1c9cf6a",
   "metadata": {},
   "source": [
    "Learning rate (design hyperparameter, the size of the step the model tweaks toward the optimum):"
   ]
  },
  {
   "cell_type": "code",
   "execution_count": 54,
   "id": "3b6c7473",
   "metadata": {
    "scrolled": true
   },
   "outputs": [
    {
     "data": {
      "text/plain": [
       "1e-06"
      ]
     },
     "execution_count": 54,
     "metadata": {},
     "output_type": "execute_result"
    }
   ],
   "source": [
    "lr = 1e-6\n",
    "lr"
   ]
  },
  {
   "cell_type": "markdown",
   "id": "9d1d0040",
   "metadata": {},
   "source": [
    "# Model Training"
   ]
  },
  {
   "cell_type": "code",
   "execution_count": 58,
   "id": "1ae0a5dc",
   "metadata": {},
   "outputs": [],
   "source": [
    "for i in range(1,10):\n",
    "    y_pred = X_train.mm(w1).mm(w2)\n",
    "    loss = (y_pred - Y_train).pow(2).sum()\n",
    "    if 0 == i%50:\n",
    "        print(i, loss.item())\n",
    "    loss.backward()\n",
    "    "
   ]
  },
  {
   "cell_type": "markdown",
   "id": "0d2eb464",
   "metadata": {},
   "source": [
    "Update weights:"
   ]
  },
  {
   "cell_type": "code",
   "execution_count": 59,
   "id": "33473406",
   "metadata": {},
   "outputs": [],
   "source": [
    "    with torch.no_grad():\n",
    "        w1 -= lr * w1.grad\n",
    "        w2 -= lr * w2.grad\n",
    "        w1.grad.zero_()\n",
    "        w2.grad.zero_()"
   ]
  },
  {
   "cell_type": "code",
   "execution_count": 60,
   "id": "7f2d6e02",
   "metadata": {},
   "outputs": [
    {
     "name": "stdout",
     "output_type": "stream",
     "text": [
      "50 51.596336364746094\n"
     ]
    }
   ],
   "source": [
    "for i in range(1,100):\n",
    "    y_pred = X_train.mm(w3).mm(w4)\n",
    "    loss = (y_pred - Y_train).pow(2).sum()\n",
    "    if 0 == i%50:\n",
    "        print(i, loss.item())\n",
    "    loss.backward()\n",
    "    with torch.no_grad():\n",
    "        w3 -= lr * w3.grad\n",
    "        w4 -= lr * w4.grad\n",
    "        w3.grad.zero_()\n",
    "        w4.grad.zero_()"
   ]
  },
  {
   "cell_type": "code",
   "execution_count": null,
   "id": "d61a76d6",
   "metadata": {},
   "outputs": [],
   "source": []
  },
  {
   "cell_type": "code",
   "execution_count": 62,
   "id": "1ae0a5dc",
   "metadata": {},
   "outputs": [
    {
     "name": "stdout",
     "output_type": "stream",
     "text": [
      "50 39.881935119628906\n",
      "100 34.23820495605469\n",
      "150 28.979087829589844\n",
      "200 24.224401473999023\n",
      "250 20.053836822509766\n",
      "300 16.5025577545166\n",
      "350 13.5636625289917\n",
      "400 11.196170806884766\n",
      "450 9.336009979248047\n",
      "500 7.907329559326172\n",
      "550 6.832285404205322\n",
      "600 6.037822246551514\n",
      "650 5.459933757781982\n",
      "700 5.045322895050049\n",
      "750 4.751353740692139\n",
      "800 4.544980525970459\n",
      "850 4.401324272155762\n",
      "900 4.302027225494385\n",
      "950 4.233829498291016\n"
     ]
    }
   ],
   "source": [
    "for i in range(1,1000):\n",
    "    y_pred = X_train.mm(w5).mm(w6)\n",
    "    loss = (y_pred - Y_train).pow(2).sum()\n",
    "    if 0 == i%50:\n",
    "        print(i, loss.item())\n",
    "    loss.backward()\n",
    "    with torch.no_grad():\n",
    "        w5 -= lr * w5.grad\n",
    "        w6 -= lr * w6.grad\n",
    "        w5.grad.zero_()\n",
    "        w6.grad.zero_()\n",
    "    "
   ]
  },
  {
   "cell_type": "code",
   "execution_count": 63,
   "id": "e91e2129",
   "metadata": {},
   "outputs": [
    {
     "name": "stdout",
     "output_type": "stream",
     "text": [
      "w1:  tensor([[0.6199]], requires_grad=True)\n",
      "w2:  tensor([[0.7647]], requires_grad=True)\n",
      "w3:  tensor([[0.6199]], requires_grad=True)\n",
      "w4:  tensor([[0.6199]], requires_grad=True)\n",
      "w5:  tensor([[0.6199]], requires_grad=True)\n",
      "w6:  tensor([[0.6199]], requires_grad=True)\n"
     ]
    }
   ],
   "source": [
    "print('w1: ',w1)\n",
    "print('w2: ',w2)\n",
    "print('w3: ',w3)\n",
    "print('w4: ',w4)\n",
    "print('w5: ',w5)\n",
    "print('w6: ',w6)"
   ]
  },
  {
   "cell_type": "markdown",
   "id": "fd7c17ab",
   "metadata": {},
   "source": [
    "Use final model weights w1 and w2 to predict:"
   ]
  },
  {
   "cell_type": "code",
   "execution_count": 64,
   "id": "2f8a665e",
   "metadata": {},
   "outputs": [
    {
     "data": {
      "text/plain": [
       "tensor([[ 4.7000],\n",
       "        [ 2.4000],\n",
       "        [ 7.5000],\n",
       "        [ 7.1000],\n",
       "        [ 4.3000],\n",
       "        [ 7.8160],\n",
       "        [ 8.9000],\n",
       "        [ 5.2000],\n",
       "        [ 8.5900],\n",
       "        [ 2.1000],\n",
       "        [ 8.0000],\n",
       "        [10.0000],\n",
       "        [ 4.5000],\n",
       "        [ 6.0000],\n",
       "        [ 4.0000]])"
      ]
     },
     "execution_count": 64,
     "metadata": {},
     "output_type": "execute_result"
    }
   ],
   "source": [
    "x_train_tensor = torch.from_numpy(x_train)\n",
    "x_train_tensor"
   ]
  },
  {
   "cell_type": "code",
   "execution_count": 42,
   "id": "275c0d86",
   "metadata": {},
   "outputs": [
    {
     "data": {
      "text/plain": [
       "tensor([[0.5956],\n",
       "        [0.3041],\n",
       "        [0.9505],\n",
       "        [0.8998],\n",
       "        [0.5449],\n",
       "        [0.9905],\n",
       "        [1.1279],\n",
       "        [0.6590],\n",
       "        [1.0886],\n",
       "        [0.2661],\n",
       "        [1.0138],\n",
       "        [1.2673],\n",
       "        [0.5703],\n",
       "        [0.7604],\n",
       "        [0.5069]], grad_fn=<MmBackward0>)"
      ]
     },
     "execution_count": 42,
     "metadata": {},
     "output_type": "execute_result"
    }
   ],
   "source": [
    "predicted_in_tensor = x_train_tensor.mm(w1).mm(w2)\n",
    "predicted_in_tensor"
   ]
  },
  {
   "cell_type": "code",
   "execution_count": 65,
   "id": "84e39d2c",
   "metadata": {},
   "outputs": [
    {
     "data": {
      "text/plain": [
       "tensor([[0.5956],\n",
       "        [0.3041],\n",
       "        [0.9505],\n",
       "        [0.8998],\n",
       "        [0.5449],\n",
       "        [0.9905],\n",
       "        [1.1279],\n",
       "        [0.6590],\n",
       "        [1.0886],\n",
       "        [0.2661],\n",
       "        [1.0138],\n",
       "        [1.2673],\n",
       "        [0.5703],\n",
       "        [0.7604],\n",
       "        [0.5069]], grad_fn=<MmBackward0>)"
      ]
     },
     "execution_count": 65,
     "metadata": {},
     "output_type": "execute_result"
    }
   ],
   "source": [
    "predicted_in_tensor2 = x_train_tensor.mm(w3).mm(w4)\n",
    "predicted_in_tensor"
   ]
  },
  {
   "cell_type": "code",
   "execution_count": 66,
   "id": "50947d53",
   "metadata": {},
   "outputs": [
    {
     "data": {
      "text/plain": [
       "tensor([[0.5956],\n",
       "        [0.3041],\n",
       "        [0.9505],\n",
       "        [0.8998],\n",
       "        [0.5449],\n",
       "        [0.9905],\n",
       "        [1.1279],\n",
       "        [0.6590],\n",
       "        [1.0886],\n",
       "        [0.2661],\n",
       "        [1.0138],\n",
       "        [1.2673],\n",
       "        [0.5703],\n",
       "        [0.7604],\n",
       "        [0.5069]], grad_fn=<MmBackward0>)"
      ]
     },
     "execution_count": 66,
     "metadata": {},
     "output_type": "execute_result"
    }
   ],
   "source": [
    "predicted_in_tensor3 = x_train_tensor.mm(w5).mm(w6)\n",
    "predicted_in_tensor"
   ]
  },
  {
   "cell_type": "code",
   "execution_count": 67,
   "id": "c1c623b6",
   "metadata": {},
   "outputs": [
    {
     "data": {
      "text/plain": [
       "array([[0.5956194 ],\n",
       "       [0.30414608],\n",
       "       [0.9504565 ],\n",
       "       [0.8997655 ],\n",
       "       [0.54492843],\n",
       "       [0.9905024 ],\n",
       "       [1.127875  ],\n",
       "       [0.6589831 ],\n",
       "       [1.0885895 ],\n",
       "       [0.2661278 ],\n",
       "       [1.0138203 ],\n",
       "       [1.2672753 ],\n",
       "       [0.5702739 ],\n",
       "       [0.76036525],\n",
       "       [0.50691015]], dtype=float32)"
      ]
     },
     "execution_count": 67,
     "metadata": {},
     "output_type": "execute_result"
    }
   ],
   "source": [
    "predicted = predicted_in_tensor.detach().numpy()\n",
    "predicted2 = predicted_in_tensor2.detach().numpy()\n",
    "predicted3 = predicted_in_tensor3.detach().numpy()\n",
    "predicted"
   ]
  },
  {
   "cell_type": "code",
   "execution_count": 68,
   "id": "5471d0f3",
   "metadata": {},
   "outputs": [
    {
     "data": {
      "image/png": "[encoded data removed]",
      "text/plain": [
       "<Figure size 864x576 with 1 Axes>"
      ]
     },
     "metadata": {
      "needs_background": "light"
     },
     "output_type": "display_data"
    }
   ],
   "source": [
    "plt.figure(figsize=(12,8))\n",
    "plt.scatter(x_train,y_train, label='Original data', s=250, c='g')\n",
    "plt.plot(x_train, predicted, label = 'Fitted line')\n",
    "plt.plot(x_train, predicted2, label = 'Fitted line 2')\n",
    "plt.plot(x_train, predicted3, label = 'Fitted line 3')\n",
    "plt.legend()\n",
    "plt.show()"
   ]
  },
  {
   "cell_type": "code",
   "execution_count": null,
   "id": "6bc851e3",
   "metadata": {},
   "outputs": [],
   "source": []
  }
 ],
 "metadata": {
  "kernelspec": {
   "display_name": "Python 3 (ipykernel)",
   "language": "python",
   "name": "python3"
  },
  "language_info": {
   "codemirror_mode": {
    "name": "ipython",
    "version": 3
   },
   "file_extension": ".py",
   "mimetype": "text/x-python",
   "name": "python",
   "nbconvert_exporter": "python",
   "pygments_lexer": "ipython3",
   "version": "3.7.11"
  }
 },
 "nbformat": 4,
 "nbformat_minor": 5
}
