{
 "cells": [
  {
   "cell_type": "markdown",
   "id": "f06825c1",
   "metadata": {},
   "source": [
    "PYTORCH TENSORS "
   ]
  },
  {
   "cell_type": "code",
   "execution_count": 12,
   "id": "c61b1c3c",
   "metadata": {},
   "outputs": [
    {
     "data": {
      "text/plain": [
       "'1.10.0+cpu'"
      ]
     },
     "execution_count": 12,
     "metadata": {},
     "output_type": "execute_result"
    }
   ],
   "source": [
    "import torch\n",
    "\n",
    "torch.__version__"
   ]
  },
  {
   "cell_type": "code",
   "execution_count": 13,
   "id": "e33ce1f7",
   "metadata": {},
   "outputs": [
    {
     "data": {
      "text/plain": [
       "torch.float32"
      ]
     },
     "execution_count": 13,
     "metadata": {},
     "output_type": "execute_result"
    }
   ],
   "source": [
    "torch.get_default_dtype()"
   ]
  },
  {
   "cell_type": "code",
   "execution_count": 17,
   "id": "50fca5ba",
   "metadata": {},
   "outputs": [
    {
     "data": {
      "text/plain": [
       "tensor([[1., 2., 3.],\n",
       "        [4., 5., 6.],\n",
       "        [7., 8., 9.]])"
      ]
     },
     "execution_count": 17,
     "metadata": {},
     "output_type": "execute_result"
    }
   ],
   "source": [
    "t1 = torch.Tensor([[1,2,3],[4,5,6],[7,8,9]])\n",
    "t1"
   ]
  },
  {
   "cell_type": "code",
   "execution_count": 20,
   "id": "235eab18",
   "metadata": {},
   "outputs": [
    {
     "data": {
      "text/plain": [
       "True"
      ]
     },
     "execution_count": 20,
     "metadata": {},
     "output_type": "execute_result"
    }
   ],
   "source": [
    "torch.is_tensor(t1)"
   ]
  },
  {
   "cell_type": "code",
   "execution_count": 21,
   "id": "f055f097",
   "metadata": {},
   "outputs": [
    {
     "data": {
      "text/plain": [
       "9"
      ]
     },
     "execution_count": 21,
     "metadata": {},
     "output_type": "execute_result"
    }
   ],
   "source": [
    "torch.numel(t1)"
   ]
  },
  {
   "cell_type": "code",
   "execution_count": 23,
   "id": "f82fe0fe",
   "metadata": {},
   "outputs": [
    {
     "data": {
      "text/plain": [
       "tensor([[0., 0., 0.],\n",
       "        [0., 0., 0.],\n",
       "        [0., 0., 0.]])"
      ]
     },
     "execution_count": 23,
     "metadata": {},
     "output_type": "execute_result"
    }
   ],
   "source": [
    "ut1 = torch.Tensor(3,3)\n",
    "ut1"
   ]
  },
  {
   "cell_type": "markdown",
   "id": "ed0a6cbd",
   "metadata": {},
   "source": [
    "Uninitialized Tensor:"
   ]
  },
  {
   "cell_type": "code",
   "execution_count": 24,
   "id": "581f7b30",
   "metadata": {},
   "outputs": [
    {
     "data": {
      "text/plain": [
       "tensor([[0.5728, 0.9844, 0.9260],\n",
       "        [0.3315, 0.2223, 0.6068],\n",
       "        [0.2042, 0.6188, 0.5551]])"
      ]
     },
     "execution_count": 24,
     "metadata": {},
     "output_type": "execute_result"
    }
   ],
   "source": [
    "it1 = torch.rand(3,3)\n",
    "it1"
   ]
  },
  {
   "cell_type": "code",
   "execution_count": null,
   "id": "2fd47269",
   "metadata": {},
   "outputs": [],
   "source": []
  }
 ],
 "metadata": {
  "kernelspec": {
   "display_name": "Python 3 (ipykernel)",
   "language": "python",
   "name": "python3"
  },
  "language_info": {
   "codemirror_mode": {
    "name": "ipython",
    "version": 3
   },
   "file_extension": ".py",
   "mimetype": "text/x-python",
   "name": "python",
   "nbconvert_exporter": "python",
   "pygments_lexer": "ipython3",
   "version": "3.7.4"
  }
 },
 "nbformat": 4,
 "nbformat_minor": 5
}
